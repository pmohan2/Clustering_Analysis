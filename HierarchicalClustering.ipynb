{
 "cells": [
  {
   "cell_type": "markdown",
   "metadata": {},
   "source": [
    "### Hierarchical Agglomerative Clustering Algorithm Implementation "
   ]
  },
  {
   "cell_type": "code",
   "execution_count": 1,
   "metadata": {},
   "outputs": [],
   "source": [
    "import pandas as pd\n",
    "import numpy as np\n",
    "from scipy.spatial.distance import pdist, squareform\n",
    "from sklearn.decomposition import PCA\n",
    "import matplotlib.pyplot as plt"
   ]
  },
  {
   "cell_type": "code",
   "execution_count": 2,
   "metadata": {},
   "outputs": [],
   "source": [
    "def Open_file(file_name):\n",
    "    df = pd.read_csv(file_name, header=None,sep='\\t' )\n",
    "    new_df = df.drop(axis = 1, columns = [0,1])\n",
    "\n",
    "    col_header = [str(i) for i in range(len(new_df.columns))]\n",
    "    new_df.columns = col_header\n",
    "    return [df, new_df]\n",
    "    "
   ]
  },
  {
   "cell_type": "code",
   "execution_count": 3,
   "metadata": {},
   "outputs": [],
   "source": [
    "# Forming the clusters\n",
    "def hac(new_df, number_clusters):\n",
    "    \n",
    "    df_array = new_df.to_numpy()\n",
    "    df_array_dst = squareform(pdist(df_array, 'euclidean'))\n",
    "    cluster_dct = {i : {i} for i in range(len(df_array_dst))}\n",
    "    # Set Inf to diagonal elements in a matrix\n",
    "    for i in range(len(df_array_dst)):\n",
    "        df_array_dst[i,i] = float('inf')\n",
    "        \n",
    "    while True:\n",
    "        if len(cluster_dct.keys())==number_clusters:\n",
    "            break\n",
    "        obj1,obj2 = np.unravel_index(np.argmin(df_array_dst, axis=None), df_array_dst.shape)\n",
    "\n",
    "        df_array_dst[obj1,:] = np.minimum(df_array_dst[obj1,:], df_array_dst[obj2,:])\n",
    "        df_array_dst[:,obj1] = np.minimum(df_array_dst[:,obj1], df_array_dst[:,obj2])\n",
    "        df_array_dst[obj2,:] = df_array_dst[:,obj2] = df_array_dst[obj1,obj2] = df_array_dst[obj1,obj1]= float('inf')\n",
    "\n",
    "        cluster_dct[obj1] = cluster_dct[obj1]|cluster_dct[obj2]\n",
    "        cluster_dct.pop(obj2)\n",
    "        print(cluster_dct)\n",
    "    return cluster_dct"
   ]
  },
  {
   "cell_type": "code",
   "execution_count": 4,
   "metadata": {},
   "outputs": [],
   "source": [
    "def cluster_allotment_metrics(cluster_dct, df):\n",
    "    i=1\n",
    "    for key in cluster_dct.keys():\n",
    "        for val in cluster_dct[key]:\n",
    "            df.loc[val,'cluster_gen'] = int(i)\n",
    "        i+=1\n",
    "\n",
    "    ground_cluster = df.iloc[:,1]\n",
    "    cluster_gen = df.iloc[:,-1]\n",
    "    return jac_rand(ground_cluster, cluster_gen)"
   ]
  },
  {
   "cell_type": "code",
   "execution_count": 5,
   "metadata": {},
   "outputs": [],
   "source": [
    "# Clustering Validation\n",
    "def jac_rand(ground_cluster, cluster_gen):\n",
    "\n",
    "    cluster1, cluster2 = ground_cluster, cluster_gen\n",
    "    m_1_1=0\n",
    "    m_0_0=0\n",
    "    m_0_1=0\n",
    "    m_1_0=0\n",
    "\n",
    "    inc_m_g = np.empty([len(ground_cluster),len(ground_cluster)])\n",
    "    inc_m_c = np.empty([len(ground_cluster),len(ground_cluster)])\n",
    "\n",
    "    for i in range(len(ground_cluster)):\n",
    "        for j in range(len(ground_cluster)):\n",
    "            inc_m_g[i,j] = 1 if cluster1[i]==cluster1[j] else 0\n",
    "            inc_m_c[i,j] = 1 if cluster2[i]==cluster2[j] else 0\n",
    "            if inc_m_g[i,j]==1 and inc_m_c[i,j]==1:\n",
    "                m_1_1+=1\n",
    "            elif inc_m_g[i,j]==0 and inc_m_c[i,j]==0:\n",
    "                m_0_0+=1\n",
    "            elif inc_m_g[i,j]==1 and inc_m_c[i,j]==0:\n",
    "                m_1_0+=1\n",
    "            else:\n",
    "                m_0_1+=1\n",
    "    jaccard = m_1_1/(m_1_1 + m_0_1 + m_1_0)\n",
    "    rand = (m_1_1 + m_0_0)/(m_1_1 + m_0_1 + m_1_0 + m_0_0)\n",
    "    return [jaccard, rand]"
   ]
  },
  {
   "cell_type": "code",
   "execution_count": 6,
   "metadata": {},
   "outputs": [],
   "source": [
    "def pca_inbuilt(file):\n",
    "\n",
    "    file = file.iloc[:,1:]\n",
    "    file.rename(columns = {1:'Ground_Truth'}, inplace = True)\n",
    "    \n",
    "    target = file[\"cluster_gen\"]\n",
    "    inputs_copy = file.drop(['cluster_gen', 'Ground_Truth'], axis='columns')\n",
    "    pca = PCA(n_components=2)\n",
    "    pca_dim = pca.fit_transform(inputs_copy.to_numpy())\n",
    "    pca_df = pd.DataFrame(pca_dim)\n",
    "    pca_df.rename(columns = {0:'PCA_1',1:'PCA_2'}, inplace = True)\n",
    "    pca_df[\"Target\"] = target\n",
    "    labels = set(pca_df['Target'])\n",
    "    plt.figure(figsize = (12,12))\n",
    "    for label in labels:\n",
    "        index = pca_df['Target'] == label\n",
    "        plt.plot(pca_df['PCA_1'][index], pca_df['PCA_2'][index],linestyle='none', marker='o', label=label)\n",
    "        plt.xlabel('PCA_1', fontsize=18)\n",
    "        plt.ylabel('PCA_2', fontsize=18)\n",
    "    plt.legend(numpoints=1, fontsize=18)\n",
    "    plt.title(\"PCA\", fontsize=18)\n",
    "    plt.show()"
   ]
  },
  {
   "cell_type": "markdown",
   "metadata": {},
   "source": [
    "**Run the below cell and give the necessary inputs.**"
   ]
  },
  {
   "cell_type": "code",
   "execution_count": 9,
   "metadata": {},
   "outputs": [
    {
     "name": "stdout",
     "output_type": "stream",
     "text": [
      "Enter the File name :new_dataset_2.txt\n",
      "Enter the number of clusters :3\n",
      "{0: {0, 1}, 2: {2}, 3: {3}, 4: {4}, 5: {5}}\n",
      "{0: {0, 1, 2}, 3: {3}, 4: {4}, 5: {5}}\n",
      "{0: {0, 1, 2}, 3: {3}, 4: {4, 5}}\n",
      "Jaccard :  0.7777777777777778\n",
      "Rand :  0.8888888888888888\n"
     ]
    },
    {
     "data": {
      "image/png": "[encoded data removed]",
      "text/plain": [
       "<Figure size 864x864 with 1 Axes>"
      ]
     },
     "metadata": {
      "needs_background": "light"
     },
     "output_type": "display_data"
    }
   ],
   "source": [
    "# Reading a dataset and removing the first 2 columns from the dataset\n",
    "\n",
    "file_name = input(\"Enter the File name :\")\n",
    "number_clusters = int(input(\"Enter the number of clusters :\"))\n",
    "\n",
    "df, new_df = Open_file(file_name)   \n",
    "cluster_dct = hac(new_df, number_clusters)\n",
    "jaccard,rand = cluster_allotment_metrics(cluster_dct, df)\n",
    "\n",
    "print(\"Jaccard : \", jaccard)\n",
    "print(\"Rand : \", rand)\n",
    "\n",
    "\n",
    "pca_inbuilt(df)"
   ]
  },
  {
   "cell_type": "code",
   "execution_count": null,
   "metadata": {},
   "outputs": [],
   "source": []
  }
 ],
 "metadata": {
  "kernelspec": {
   "display_name": "Python 3",
   "language": "python",
   "name": "python3"
  },
  "language_info": {
   "codemirror_mode": {
    "name": "ipython",
    "version": 3
   },
   "file_extension": ".py",
   "mimetype": "text/x-python",
   "name": "python",
   "nbconvert_exporter": "python",
   "pygments_lexer": "ipython3",
   "version": "3.8.5"
  }
 },
 "nbformat": 4,
 "nbformat_minor": 4
}
