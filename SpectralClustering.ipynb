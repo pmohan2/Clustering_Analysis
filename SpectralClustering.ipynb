{
 "cells": [
  {
   "cell_type": "code",
   "execution_count": 1,
   "metadata": {},
   "outputs": [],
   "source": [
    "import pandas as pd\n",
    "import numpy as np\n",
    "from scipy.spatial.distance import pdist, squareform\n",
    "import random \n",
    "from sklearn.decomposition import PCA\n",
    "import matplotlib.pyplot as plt"
   ]
  },
  {
   "cell_type": "code",
   "execution_count": 2,
   "metadata": {},
   "outputs": [],
   "source": [
    "def Open_file(file_name):\n",
    "    \n",
    "    df = pd.read_csv(file_name, header=None,sep='\\t' )\n",
    "    new_df = df.drop(axis = 1, columns = [0,1])\n",
    "    df_array = new_df.to_numpy()\n",
    "    \n",
    "    return [df, df_array]"
   ]
  },
  {
   "cell_type": "code",
   "execution_count": 3,
   "metadata": {},
   "outputs": [],
   "source": [
    "def similarity_matrix(df_array,sigma):\n",
    "    graph_array = np.zeros([len(df_array), len(df_array)])\n",
    "    for i in range(len(df_array)):\n",
    "        for j in range(len(df_array)):\n",
    "            temp_dist = np.linalg.norm(df_array[i] - df_array[j])\n",
    "            graph_array[i,j] = np.exp((-temp_dist**2)/(sigma**2))\n",
    "    return graph_array"
   ]
  },
  {
   "cell_type": "code",
   "execution_count": 4,
   "metadata": {},
   "outputs": [],
   "source": [
    "def laplace_matrix_cal(df_array, sigma):\n",
    "    # similarity matrix\n",
    "    df_array_dst = similarity_matrix(df_array, sigma)\n",
    "\n",
    "    # Diagonal Matrix Calculation\n",
    "    diagonal_matrix = np.zeros([len(df_array_dst), len(df_array_dst)])\n",
    "    diagonal_matrix_values = np.sum(df_array_dst, axis = 1) # Row wise sum\n",
    "    for i in range(len(df_array_dst)):\n",
    "        diagonal_matrix[i,i] = diagonal_matrix_values[i]\n",
    "\n",
    "    # laplace matrix calculation\n",
    "    laplace_matrix = diagonal_matrix - df_array_dst\n",
    "    return laplace_matrix"
   ]
  },
  {
   "cell_type": "code",
   "execution_count": 5,
   "metadata": {},
   "outputs": [],
   "source": [
    "def sorting_eig_values(laplace_matrix):\n",
    "    \n",
    "    eig_values, eig_vectors = np.linalg.eig(laplace_matrix)\n",
    "    index = np.argsort(eig_values)\n",
    "    max_diff = 0\n",
    "    max_diff_index = int\n",
    "    temp = []\n",
    "    for i in range(0,len(index)-1):\n",
    "        temp = (abs(eig_values[index[i]] - eig_values[index[i+1]]))\n",
    "        if temp > max_diff :\n",
    "            max_diff = temp\n",
    "            max_diff_index = i+1\n",
    "\n",
    "    new_index = index[:max_diff_index+1]\n",
    "    input_kmeans = eig_vectors[:,new_index]\n",
    "    return input_kmeans"
   ]
  },
  {
   "cell_type": "markdown",
   "metadata": {},
   "source": [
    "# Kmeans\n"
   ]
  },
  {
   "cell_type": "code",
   "execution_count": 6,
   "metadata": {},
   "outputs": [],
   "source": [
    "def Kmeans(number_clusters, num_iterations, centroids, standard_new_df):\n",
    "    while(num_iterations>0):\n",
    "        num_iterations-=1\n",
    "        \n",
    "        dist_matrix = np.ones([standard_new_df.shape[0], number_clusters])\n",
    "        cluster_dct = {i:[] for i in range(number_clusters)}\n",
    "\n",
    "        for i in range(standard_new_df.shape[0]):\n",
    "            minimum_value, cluster = float('inf'), -1\n",
    "            for j in range(number_clusters):\n",
    "                dist_matrix[i][j] = pdist([standard_new_df[i], centroids[j]])[0]\n",
    "                if minimum_value>dist_matrix[i][j]:\n",
    "                    cluster = j\n",
    "                    minimum_value = dist_matrix[i][j]\n",
    "            cluster_dct[cluster].append(i)\n",
    "\n",
    "        for key in cluster_dct.keys():\n",
    "            centroids[key] = np.mean(standard_new_df[cluster_dct[key]], axis=0)\n",
    "        return cluster_dct"
   ]
  },
  {
   "cell_type": "code",
   "execution_count": 7,
   "metadata": {},
   "outputs": [],
   "source": [
    "def cluster_allotment(dct, df): \n",
    "    i, cluster_dct = 1, dct\n",
    "    for key in cluster_dct.keys():\n",
    "        for val in cluster_dct[key]:\n",
    "            df.loc[val,'cluster_gen'] = int(i)\n",
    "        i+=1\n",
    "\n",
    "    ground_cluster = df.iloc[:,1]\n",
    "    cluster_gen = df.iloc[:,-1]\n",
    "    return jac_rand(ground_cluster, cluster_gen)\n",
    "    "
   ]
  },
  {
   "cell_type": "code",
   "execution_count": 8,
   "metadata": {},
   "outputs": [],
   "source": [
    "# Clustering Validation\n",
    "def jac_rand(ground_cluster, cluster_gen):\n",
    "\n",
    "    cluster1, cluster2 = ground_cluster, cluster_gen\n",
    "    m_1_1=0\n",
    "    m_0_0=0\n",
    "    m_0_1=0\n",
    "    m_1_0=0\n",
    "\n",
    "    inc_m_g = np.empty([len(ground_cluster),len(ground_cluster)])\n",
    "    inc_m_c = np.empty([len(ground_cluster),len(ground_cluster)])\n",
    "\n",
    "    for i in range(len(ground_cluster)):\n",
    "        for j in range(len(ground_cluster)):\n",
    "            inc_m_g[i,j] = 1 if cluster1[i]==cluster1[j] else 0\n",
    "            inc_m_c[i,j] = 1 if cluster2[i]==cluster2[j] else 0\n",
    "            if inc_m_g[i,j]==1 and inc_m_c[i,j]==1:\n",
    "                m_1_1+=1\n",
    "            elif inc_m_g[i,j]==0 and inc_m_c[i,j]==0:\n",
    "                m_0_0+=1\n",
    "            elif inc_m_g[i,j]==1 and inc_m_c[i,j]==0:\n",
    "                m_1_0+=1\n",
    "            else:\n",
    "                m_0_1+=1\n",
    "    jaccard = m_1_1/(m_1_1 + m_0_1 + m_1_0)\n",
    "    rand = (m_1_1 + m_0_0)/(m_1_1 + m_0_1 + m_1_0 + m_0_0)\n",
    "    return (jaccard, rand)"
   ]
  },
  {
   "cell_type": "code",
   "execution_count": 9,
   "metadata": {},
   "outputs": [],
   "source": [
    "def pca_inbuilt(file):\n",
    "\n",
    "    file = file.iloc[:,1:]\n",
    "    file.rename(columns = {1:'Ground_Truth'}, inplace = True)\n",
    "    \n",
    "    target = file[\"cluster_gen\"]\n",
    "    inputs_copy = file.drop(['cluster_gen', 'Ground_Truth'], axis='columns')\n",
    "    pca = PCA(n_components=2)\n",
    "    pca_dim = pca.fit_transform(inputs_copy.to_numpy())\n",
    "    pca_df = pd.DataFrame(pca_dim)\n",
    "    pca_df.rename(columns = {0:'PCA_1',1:'PCA_2'}, inplace = True)\n",
    "    pca_df[\"Target\"] = target\n",
    "    labels = set(pca_df['Target'])\n",
    "    plt.figure(figsize = (12,12))\n",
    "    for label in labels:\n",
    "        index = pca_df['Target'] == label\n",
    "        plt.plot(pca_df['PCA_1'][index], pca_df['PCA_2'][index],linestyle='none', marker='o', label=label)\n",
    "        plt.xlabel('PCA_1', fontsize=18)\n",
    "        plt.ylabel('PCA_2', fontsize=18)\n",
    "    plt.legend(numpoints=1, fontsize=18)\n",
    "    plt.title(\"PCA\", fontsize=18)\n",
    "    plt.show()"
   ]
  },
  {
   "cell_type": "markdown",
   "metadata": {},
   "source": [
    "**Run the below cell and give the necessary inputs.**"
   ]
  },
  {
   "cell_type": "code",
   "execution_count": 12,
   "metadata": {},
   "outputs": [
    {
     "name": "stdout",
     "output_type": "stream",
     "text": [
      "Enter the name of the file : new_dataset_1.txt\n",
      "Enter the sigma value to build a fully connected graph : 2\n",
      "Enter the number of clusters : 3\n",
      "Enter the number of iterations : 300\n",
      "Enter the index of the initial centroids with spaces in between : 1 4 8\n",
      "Jaccard :  0.4985530546623794\n",
      "Rand :  0.7227555555555556\n"
     ]
    },
    {
     "data": {
      "image/png": "[encoded data removed]",
      "text/plain": [
       "<Figure size 864x864 with 1 Axes>"
      ]
     },
     "metadata": {
      "needs_background": "light"
     },
     "output_type": "display_data"
    }
   ],
   "source": [
    "file_name = input('Enter the name of the file : ')\n",
    "sigma = float(input('Enter the sigma value to build a fully connected graph : '))\n",
    "number_clusters = int(input('Enter the number of clusters : '))\n",
    "num_iterations = int(input('Enter the number of iterations : '))\n",
    "centroids = input(\"Enter the index of the initial centroids with spaces in between : \")\n",
    "\n",
    "df, df_array = Open_file(file_name)\n",
    "laplace_matrix = laplace_matrix_cal(df_array, sigma)\n",
    "final_matrix = sorting_eig_values(laplace_matrix)\n",
    "\n",
    "lst_centroid_index = centroids.split()\n",
    "lst_centroid_int_index = [int(i)-1 for i in lst_centroid_index]\n",
    "\n",
    "centroids = final_matrix[lst_centroid_int_index,:]\n",
    "dct = Kmeans(number_clusters, num_iterations, centroids, final_matrix)\n",
    "\n",
    "jaccard, rand = cluster_allotment(dct, df)\n",
    "print('Jaccard : ',jaccard)\n",
    "print('Rand : ',rand)\n",
    "\n",
    "pca_inbuilt(df)\n"
   ]
  },
  {
   "cell_type": "code",
   "execution_count": null,
   "metadata": {},
   "outputs": [],
   "source": []
  }
 ],
 "metadata": {
  "kernelspec": {
   "display_name": "Python 3",
   "language": "python",
   "name": "python3"
  },
  "language_info": {
   "codemirror_mode": {
    "name": "ipython",
    "version": 3
   },
   "file_extension": ".py",
   "mimetype": "text/x-python",
   "name": "python",
   "nbconvert_exporter": "python",
   "pygments_lexer": "ipython3",
   "version": "3.8.5"
  }
 },
 "nbformat": 4,
 "nbformat_minor": 4
}
